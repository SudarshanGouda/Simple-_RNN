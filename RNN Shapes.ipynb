{
 "cells": [
  {
   "cell_type": "markdown",
   "id": "c997610c",
   "metadata": {},
   "source": [
    "# RNN Shapes"
   ]
  },
  {
   "cell_type": "code",
   "execution_count": 20,
   "id": "35b0554d",
   "metadata": {},
   "outputs": [],
   "source": [
    "import pandas as pd\n",
    "import numpy as np\n",
    "import matplotlib.pyplot as plt"
   ]
  },
  {
   "cell_type": "code",
   "execution_count": 21,
   "id": "e9b5d6cb",
   "metadata": {},
   "outputs": [],
   "source": [
    "from tensorflow.keras import Sequential,Input\n",
    "from tensorflow.keras.models import Model\n",
    "from tensorflow.keras.optimizers import Adam\n",
    "from tensorflow.keras.layers import Dense,Flatten,SimpleRNN"
   ]
  },
  {
   "cell_type": "markdown",
   "id": "4a014c38",
   "metadata": {},
   "source": [
    "### IMP FACTORS TO REMEMBER\n",
    "\n",
    "#### N = No of samples\n",
    "#### T = Length of sequence \n",
    "#### D = No if input featues\n",
    "#### M = No of hidden units\n",
    "#### K = No of output Units"
   ]
  },
  {
   "cell_type": "code",
   "execution_count": 22,
   "id": "97f8f55b",
   "metadata": {},
   "outputs": [],
   "source": [
    "N=1\n",
    "D=3\n",
    "T=10\n",
    "M=5\n",
    "K=2\n",
    "\n",
    "X= np.random.randn(N,T,D)"
   ]
  },
  {
   "cell_type": "code",
   "execution_count": 23,
   "id": "0b2756b3",
   "metadata": {},
   "outputs": [
    {
     "name": "stdout",
     "output_type": "stream",
     "text": [
      "[[[-2.48604969  0.30764991  0.687804  ]\n",
      "  [ 0.02657688 -0.09337135  1.81981837]\n",
      "  [-0.80182939  0.39404859 -0.34575991]\n",
      "  [-1.43917276 -0.24351747  1.31672633]\n",
      "  [-2.85071672  0.92622721  0.44611246]\n",
      "  [-1.24624113 -1.34323576 -1.68572314]\n",
      "  [-0.39335016  0.83609414  0.42888107]\n",
      "  [ 3.06778171  1.98172241 -0.12708853]\n",
      "  [-0.2056615   0.53915734 -0.05174516]\n",
      "  [-1.0082647   0.35765701  3.35490549]]]\n"
     ]
    }
   ],
   "source": [
    "print(X)"
   ]
  },
  {
   "cell_type": "code",
   "execution_count": 24,
   "id": "35972b64",
   "metadata": {},
   "outputs": [],
   "source": [
    "model= Sequential()\n",
    "\n",
    "model.add(Input(shape=(T,D)))\n",
    "\n",
    "model.add(SimpleRNN(M,activation='relu'))\n",
    "\n",
    "model.add(Dense(K))"
   ]
  },
  {
   "cell_type": "code",
   "execution_count": 25,
   "id": "c53e5d68",
   "metadata": {},
   "outputs": [
    {
     "name": "stdout",
     "output_type": "stream",
     "text": [
      "1/1 [==============================] - 0s 184ms/step\n"
     ]
    }
   ],
   "source": [
    "yhat=model.predict(X)"
   ]
  },
  {
   "cell_type": "code",
   "execution_count": 26,
   "id": "0485e4e7",
   "metadata": {},
   "outputs": [
    {
     "data": {
      "text/plain": [
       "array([[0.4321339, 1.672685 ]], dtype=float32)"
      ]
     },
     "execution_count": 26,
     "metadata": {},
     "output_type": "execute_result"
    }
   ],
   "source": [
    "yhat"
   ]
  },
  {
   "cell_type": "code",
   "execution_count": 27,
   "id": "13e346eb",
   "metadata": {},
   "outputs": [
    {
     "name": "stdout",
     "output_type": "stream",
     "text": [
      "Model: \"sequential_2\"\n",
      "_________________________________________________________________\n",
      " Layer (type)                Output Shape              Param #   \n",
      "=================================================================\n",
      " simple_rnn_2 (SimpleRNN)    (None, 5)                 45        \n",
      "                                                                 \n",
      " dense_2 (Dense)             (None, 2)                 12        \n",
      "                                                                 \n",
      "=================================================================\n",
      "Total params: 57\n",
      "Trainable params: 57\n",
      "Non-trainable params: 0\n",
      "_________________________________________________________________\n"
     ]
    }
   ],
   "source": [
    "model.summary()"
   ]
  },
  {
   "cell_type": "code",
   "execution_count": 28,
   "id": "70a3d8a8",
   "metadata": {},
   "outputs": [
    {
     "name": "stdout",
     "output_type": "stream",
     "text": [
      "a shape (5, 2), b shape (2,)\n"
     ]
    }
   ],
   "source": [
    "a,b=model.layers[1].get_weights()\n",
    "print(f'a shape {a.shape}, b shape {b.shape}')"
   ]
  }
 ],
 "metadata": {
  "kernelspec": {
   "display_name": "Python 3 (ipykernel)",
   "language": "python",
   "name": "python3"
  },
  "language_info": {
   "codemirror_mode": {
    "name": "ipython",
    "version": 3
   },
   "file_extension": ".py",
   "mimetype": "text/x-python",
   "name": "python",
   "nbconvert_exporter": "python",
   "pygments_lexer": "ipython3",
   "version": "3.9.12"
  }
 },
 "nbformat": 4,
 "nbformat_minor": 5
}
